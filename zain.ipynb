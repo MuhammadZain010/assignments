{
 "cells": [
  {
   "cell_type": "markdown",
   "metadata": {},
   "source": [
    "# QUESTION 1"
   ]
  },
  {
   "cell_type": "code",
   "execution_count": 1,
   "metadata": {
    "colab": {
     "base_uri": "https://localhost:8080/"
    },
    "id": "UbsCyLomD4rc",
    "outputId": "299d5584-642f-4d26-f7ac-afa79e57fa83"
   },
   "outputs": [
    {
     "name": "stdout",
     "output_type": "stream",
     "text": [
      "Twinkle,twinkle,littlestar,\n",
      "        How I wonder what you!\n",
      "                Up above the world so high,\n",
      "                Like a diamond in the sky.\n",
      "Twinkle,twinkle,little star,\n",
      "        How I wonder what you are\n"
     ]
    }
   ],
   "source": [
    "print(\"Twinkle,\"+\" \"*0+\"twinkle,\"+\" \"*0+\"little\"+\" \"*0+\"star,\")\n",
    "print(\" \"*8+\"How\"+\" \"*1+\"I\"+\" \"*1+\"wonder\"+\" \"*1+\"what\"+\" \"*1+\"you\"+\" \"*0+\"!\")\n",
    "print(\" \"*16+\"Up\"+\" \"*1+\"above\"+\" \"*1+\"the\"+\" \"*1+\"world\"+\" \"*1+\"so\"+\" \"*1+\"high,\")\n",
    "print(\" \"*16+\"Like\"+\" \"*1+\"a\"+\" \"*1+\"diamond\"+\" \"*1+\"in\"+\" \"*1+\"the\"+\" \"*1+\"sky.\")\n",
    "print(\"Twinkle,\"+\" \"*0+\"twinkle,\"+\" \"*0+\"little\"+\" \"*1+\"star,\")\n",
    "print(\" \"*8+\"How\"+\" \"*1+\"I\"+\" \"*1+\"wonder\"+\" \"*1+\"what\"+\" \"*1+\"you\"+\" \"*1+\"are\")"
   ]
  },
  {
   "cell_type": "markdown",
   "metadata": {},
   "source": [
    "# QUESTION 2"
   ]
  },
  {
   "cell_type": "code",
   "execution_count": 2,
   "metadata": {},
   "outputs": [
    {
     "name": "stdout",
     "output_type": "stream",
     "text": [
      "Python 3.8.8\n"
     ]
    }
   ],
   "source": [
    "!python --version"
   ]
  },
  {
   "cell_type": "markdown",
   "metadata": {},
   "source": [
    "# QUESTION 3"
   ]
  },
  {
   "cell_type": "code",
   "execution_count": 3,
   "metadata": {},
   "outputs": [
    {
     "name": "stdout",
     "output_type": "stream",
     "text": [
      "Current date and time :  2022-01-01 22:11:11.475648\n"
     ]
    }
   ],
   "source": [
    "import datetime\n",
    "now = datetime.datetime.now()\n",
    "print (\"Current date and time : \", now)"
   ]
  },
  {
   "cell_type": "markdown",
   "metadata": {},
   "source": [
    "# QUESTION 4"
   ]
  },
  {
   "cell_type": "code",
   "execution_count": 8,
   "metadata": {},
   "outputs": [
    {
     "name": "stdout",
     "output_type": "stream",
     "text": [
      "Enter radius of circle: 12\n",
      "Area of circle = 452.448\n"
     ]
    }
   ],
   "source": [
    "r = int(input(\"Enter radius of circle: \"))\n",
    "π = 3.142\n",
    "a = π * r * r\n",
    "print(\"Area of circle =\", a)"
   ]
  },
  {
   "cell_type": "markdown",
   "metadata": {},
   "source": [
    "# QUESTION 5"
   ]
  },
  {
   "cell_type": "code",
   "execution_count": 5,
   "metadata": {},
   "outputs": [
    {
     "name": "stdout",
     "output_type": "stream",
     "text": [
      "Input your First Name : Muahammad\n",
      "Input your Last Name : Zain\n",
      "Zain Muahammad\n"
     ]
    }
   ],
   "source": [
    "fname = input(\"Input your First Name : \")\n",
    "lname = input(\"Input your Last Name : \")\n",
    "print ( lname + \" \" + fname)"
   ]
  },
  {
   "cell_type": "markdown",
   "metadata": {},
   "source": [
    "# QUESTION 6"
   ]
  },
  {
   "cell_type": "code",
   "execution_count": 7,
   "metadata": {},
   "outputs": [
    {
     "name": "stdout",
     "output_type": "stream",
     "text": [
      "Input your First Num : 20\n",
      "Input your Second Num : 80\n",
      "100\n"
     ]
    }
   ],
   "source": [
    "fnum = int(input(\"Input your First Num : \"))\n",
    "lnum = int(input(\"Input your Second Num : \"))\n",
    "a = fnum + lnum\n",
    "print(a) "
   ]
  }
 ],
 "metadata": {
  "colab": {
   "collapsed_sections": [],
   "name": "zain.ipynb",
   "provenance": []
  },
  "kernelspec": {
   "display_name": "Python 3",
   "language": "python",
   "name": "python3"
  },
  "language_info": {
   "codemirror_mode": {
    "name": "ipython",
    "version": 3
   },
   "file_extension": ".py",
   "mimetype": "text/x-python",
   "name": "python",
   "nbconvert_exporter": "python",
   "pygments_lexer": "ipython3",
   "version": "3.8.8"
  }
 },
 "nbformat": 4,
 "nbformat_minor": 1
}
